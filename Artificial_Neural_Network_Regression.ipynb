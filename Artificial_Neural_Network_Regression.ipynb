{
  "nbformat": 4,
  "nbformat_minor": 0,
  "metadata": {
    "colab": {
      "name": " Artificial Neural Network Regression",
      "provenance": [],
      "collapsed_sections": [],
      "toc_visible": true
    },
    "kernelspec": {
      "name": "python3",
      "display_name": "Python 3"
    }
  },
  "cells": [
    {
      "cell_type": "markdown",
      "metadata": {
        "id": "3cbb7fRy-eyr",
        "colab_type": "text"
      },
      "source": [
        "# Artificial Neural Network\n",
        "\n",
        "Regression for a combined cycle power plant.\n",
        "Goal. Predict the Energy Output of the power plant. \n",
        "\n"
      ]
    },
    {
      "cell_type": "markdown",
      "metadata": {
        "id": "8sNDnxE2-pwE",
        "colab_type": "text"
      },
      "source": [
        "### Importing the libraries"
      ]
    },
    {
      "cell_type": "code",
      "metadata": {
        "id": "lxChR1Rk-umf",
        "colab_type": "code",
        "colab": {}
      },
      "source": [
        "import numpy as np\n",
        "import pandas as pd\n",
        "import tensorflow as tf"
      ],
      "execution_count": 16,
      "outputs": []
    },
    {
      "cell_type": "code",
      "metadata": {
        "id": "uBTqR3nacj0e",
        "colab_type": "code",
        "colab": {
          "base_uri": "https://localhost:8080/",
          "height": 35
        },
        "outputId": "4918a9c3-bacc-451b-8dd7-ac76353c7e45"
      },
      "source": [
        "tf.__version__"
      ],
      "execution_count": 17,
      "outputs": [
        {
          "output_type": "execute_result",
          "data": {
            "application/vnd.google.colaboratory.intrinsic+json": {
              "type": "string"
            },
            "text/plain": [
              "'2.3.0'"
            ]
          },
          "metadata": {
            "tags": []
          },
          "execution_count": 17
        }
      ]
    },
    {
      "cell_type": "markdown",
      "metadata": {
        "id": "AG3FQEch-yuA",
        "colab_type": "text"
      },
      "source": [
        "## Part 1 - Data Preprocessing"
      ]
    },
    {
      "cell_type": "markdown",
      "metadata": {
        "id": "-4zq8Mza_D9O",
        "colab_type": "text"
      },
      "source": [
        "### Importing the dataset\n",
        "The features contained in the dataset consist of hourly average ambient variables\n",
        "\n",
        "#Independent Variables contained in matrix X\n",
        "- Temperature (T) in the range 1.81°C and 37.11°C,\n",
        "- Ambient Pressure (AP) in the range 992.89-1033.30 milibar,\n",
        "- Relative Humidity (RH) in the range 25.56% to 100.16%\n",
        "- Exhaust Vacuum (V) in teh range 25.36-81.56 cm Hg\n",
        "\n",
        "#Output to Predict (y_pred)\n",
        "- Net hourly electrical energy output (EP) 420.26-495.76 MW\n",
        "The averages are taken from various sensors located around the plant that record the ambient variables every second. The variables are given without normalization.\n",
        "\n"
      ]
    },
    {
      "cell_type": "code",
      "metadata": {
        "id": "B9CV13Co_HHM",
        "colab_type": "code",
        "colab": {}
      },
      "source": [
        "dataset = pd.read_excel('Folds5x2_pp.xlsx')\n",
        "X = dataset.iloc[:, :-1].values\n",
        "y = dataset.iloc[:, -1].values"
      ],
      "execution_count": 18,
      "outputs": []
    },
    {
      "cell_type": "code",
      "metadata": {
        "id": "-lgNqzF9a91N",
        "colab_type": "code",
        "colab": {
          "base_uri": "https://localhost:8080/",
          "height": 151
        },
        "outputId": "7a86bf9f-8237-482e-9682-50a3789cb5af"
      },
      "source": [
        "print(X)\n",
        "print(y)"
      ],
      "execution_count": 19,
      "outputs": [
        {
          "output_type": "stream",
          "text": [
            "[[  14.96   41.76 1024.07   73.17]\n",
            " [  25.18   62.96 1020.04   59.08]\n",
            " [   5.11   39.4  1012.16   92.14]\n",
            " ...\n",
            " [  31.32   74.33 1012.92   36.48]\n",
            " [  24.48   69.45 1013.86   62.39]\n",
            " [  21.6    62.52 1017.23   67.87]]\n",
            "[463.26 444.37 488.56 ... 429.57 435.74 453.28]\n"
          ],
          "name": "stdout"
        }
      ]
    },
    {
      "cell_type": "markdown",
      "metadata": {
        "id": "VC6omXel_Up0",
        "colab_type": "text"
      },
      "source": [
        "### Splitting the dataset into the Training set and Test set\n",
        "\n",
        "Train set to train the neural network and test one to compare the results"
      ]
    },
    {
      "cell_type": "code",
      "metadata": {
        "id": "L5edeb2r_agx",
        "colab_type": "code",
        "colab": {}
      },
      "source": [
        "from sklearn.model_selection import train_test_split\n",
        "X_train, X_test, y_train, y_test = train_test_split(X, y, test_size = 0.2, random_state = 0)"
      ],
      "execution_count": 20,
      "outputs": []
    },
    {
      "cell_type": "markdown",
      "metadata": {
        "id": "_mSLlAT9_eyI",
        "colab_type": "text"
      },
      "source": [
        "## Part 2 - Building the ANN\n",
        "\n",
        "Build an ANN with two hidden layers\n",
        "Input layer and of course Output layer"
      ]
    },
    {
      "cell_type": "code",
      "metadata": {
        "id": "J6Hd97Ls__Nz",
        "colab_type": "code",
        "colab": {}
      },
      "source": [
        "# use tensorflow to build the neural network\n",
        "# build a sequencial ANN\n",
        "ann = tf.keras.models.Sequential()\n",
        "\n",
        "# add the input layer and first hidden layer to the ANN\n",
        "# add the dense class tf.keras.layers.Dense\n",
        "# Dense means that the entire input layer is fully connected to all the neurons in the hidden layer\n",
        "# units = number of hidden neurons \n",
        "# relu. rectifier activation function\n",
        "ann.add(tf.keras.layers.Dense(units=6, activation='relu'))\n",
        "\n",
        "# adding a second hidden layer\n",
        "ann.add(tf.keras.layers.Dense(units=6, activation='relu'))\n"
      ],
      "execution_count": 21,
      "outputs": []
    },
    {
      "cell_type": "markdown",
      "metadata": {
        "id": "jwMOmKb3AdBY",
        "colab_type": "text"
      },
      "source": [
        "### Adding the output layer"
      ]
    },
    {
      "cell_type": "code",
      "metadata": {
        "id": "YFATpzsUAkLL",
        "colab_type": "code",
        "colab": {}
      },
      "source": [
        "# remove the activation function to none because the ANN is used for regression\n",
        "# for classification of two parameters would be ok a sigmoid, with more parameters max function\n",
        "ann.add(tf.keras.layers.Dense(units=1))"
      ],
      "execution_count": 22,
      "outputs": []
    },
    {
      "cell_type": "markdown",
      "metadata": {
        "id": "fq7e4fF6A1yy",
        "colab_type": "text"
      },
      "source": [
        "## Part 3 - Training the ANN"
      ]
    },
    {
      "cell_type": "code",
      "metadata": {
        "id": "pesgbWlCAtB4",
        "colab_type": "code",
        "colab": {}
      },
      "source": [
        "#compile method optimizer parameter = adam (for stochastic gradient descent)\n",
        "# loss is the cost function\n",
        "ann.compile(optimizer = 'adam', loss = 'mean_squared_error')"
      ],
      "execution_count": 23,
      "outputs": []
    },
    {
      "cell_type": "code",
      "metadata": {
        "id": "c_vV-tiiA5zn",
        "colab_type": "code",
        "colab": {
          "base_uri": "https://localhost:8080/",
          "height": 1000
        },
        "outputId": "3f4b5ddb-836c-46e1-bc8b-f973a04df9bd"
      },
      "source": [
        "# use fit method to train the ANN\n",
        "# inputs in addtion to the train set, batch size and epochs\n",
        "# # of epochs select a random number and then nmodify if needed \n",
        "# batch size , amount of data to be propagated in each round\n",
        "ann.fit(X_train, y_train, batch_size = 32, epochs = 100)"
      ],
      "execution_count": 24,
      "outputs": [
        {
          "output_type": "stream",
          "text": [
            "Epoch 1/100\n",
            "240/240 [==============================] - 0s 913us/step - loss: 2317.2610\n",
            "Epoch 2/100\n",
            "240/240 [==============================] - 0s 835us/step - loss: 145.5974\n",
            "Epoch 3/100\n",
            "240/240 [==============================] - 0s 837us/step - loss: 136.1490\n",
            "Epoch 4/100\n",
            "240/240 [==============================] - 0s 867us/step - loss: 125.7509\n",
            "Epoch 5/100\n",
            "240/240 [==============================] - 0s 900us/step - loss: 114.5272\n",
            "Epoch 6/100\n",
            "240/240 [==============================] - 0s 868us/step - loss: 103.4453\n",
            "Epoch 7/100\n",
            "240/240 [==============================] - 0s 850us/step - loss: 93.6749\n",
            "Epoch 8/100\n",
            "240/240 [==============================] - 0s 813us/step - loss: 83.7130\n",
            "Epoch 9/100\n",
            "240/240 [==============================] - 0s 881us/step - loss: 75.6617\n",
            "Epoch 10/100\n",
            "240/240 [==============================] - 0s 912us/step - loss: 68.6488\n",
            "Epoch 11/100\n",
            "240/240 [==============================] - 0s 875us/step - loss: 62.9203\n",
            "Epoch 12/100\n",
            "240/240 [==============================] - 0s 849us/step - loss: 56.9853\n",
            "Epoch 13/100\n",
            "240/240 [==============================] - 0s 833us/step - loss: 52.4381\n",
            "Epoch 14/100\n",
            "240/240 [==============================] - 0s 937us/step - loss: 47.7832\n",
            "Epoch 15/100\n",
            "240/240 [==============================] - 0s 889us/step - loss: 46.0732\n",
            "Epoch 16/100\n",
            "240/240 [==============================] - 0s 861us/step - loss: 42.1065\n",
            "Epoch 17/100\n",
            "240/240 [==============================] - 0s 857us/step - loss: 39.3837\n",
            "Epoch 18/100\n",
            "240/240 [==============================] - 0s 867us/step - loss: 38.8566\n",
            "Epoch 19/100\n",
            "240/240 [==============================] - 0s 874us/step - loss: 36.7142\n",
            "Epoch 20/100\n",
            "240/240 [==============================] - 0s 844us/step - loss: 35.6724\n",
            "Epoch 21/100\n",
            "240/240 [==============================] - 0s 891us/step - loss: 35.1744\n",
            "Epoch 22/100\n",
            "240/240 [==============================] - 0s 865us/step - loss: 33.5481\n",
            "Epoch 23/100\n",
            "240/240 [==============================] - 0s 887us/step - loss: 32.5358\n",
            "Epoch 24/100\n",
            "240/240 [==============================] - 0s 874us/step - loss: 32.0517\n",
            "Epoch 25/100\n",
            "240/240 [==============================] - 0s 849us/step - loss: 31.6021\n",
            "Epoch 26/100\n",
            "240/240 [==============================] - 0s 816us/step - loss: 30.9328\n",
            "Epoch 27/100\n",
            "240/240 [==============================] - 0s 879us/step - loss: 30.6923\n",
            "Epoch 28/100\n",
            "240/240 [==============================] - 0s 886us/step - loss: 29.9240\n",
            "Epoch 29/100\n",
            "240/240 [==============================] - 0s 851us/step - loss: 31.7757\n",
            "Epoch 30/100\n",
            "240/240 [==============================] - 0s 821us/step - loss: 29.2308\n",
            "Epoch 31/100\n",
            "240/240 [==============================] - 0s 894us/step - loss: 28.8921\n",
            "Epoch 32/100\n",
            "240/240 [==============================] - 0s 833us/step - loss: 28.3813\n",
            "Epoch 33/100\n",
            "240/240 [==============================] - 0s 871us/step - loss: 29.5198\n",
            "Epoch 34/100\n",
            "240/240 [==============================] - 0s 832us/step - loss: 28.9591\n",
            "Epoch 35/100\n",
            "240/240 [==============================] - 0s 874us/step - loss: 28.9853\n",
            "Epoch 36/100\n",
            "240/240 [==============================] - 0s 865us/step - loss: 28.1451\n",
            "Epoch 37/100\n",
            "240/240 [==============================] - 0s 893us/step - loss: 29.4848\n",
            "Epoch 38/100\n",
            "240/240 [==============================] - 0s 881us/step - loss: 27.3514\n",
            "Epoch 39/100\n",
            "240/240 [==============================] - 0s 863us/step - loss: 28.0228\n",
            "Epoch 40/100\n",
            "240/240 [==============================] - 0s 835us/step - loss: 27.9120\n",
            "Epoch 41/100\n",
            "240/240 [==============================] - 0s 835us/step - loss: 27.7556\n",
            "Epoch 42/100\n",
            "240/240 [==============================] - 0s 864us/step - loss: 28.5335\n",
            "Epoch 43/100\n",
            "240/240 [==============================] - 0s 896us/step - loss: 27.1253\n",
            "Epoch 44/100\n",
            "240/240 [==============================] - 0s 884us/step - loss: 27.5900\n",
            "Epoch 45/100\n",
            "240/240 [==============================] - 0s 868us/step - loss: 27.5107\n",
            "Epoch 46/100\n",
            "240/240 [==============================] - 0s 883us/step - loss: 28.1853\n",
            "Epoch 47/100\n",
            "240/240 [==============================] - 0s 936us/step - loss: 28.2156\n",
            "Epoch 48/100\n",
            "240/240 [==============================] - 0s 860us/step - loss: 27.4375\n",
            "Epoch 49/100\n",
            "240/240 [==============================] - 0s 885us/step - loss: 28.2873\n",
            "Epoch 50/100\n",
            "240/240 [==============================] - 0s 844us/step - loss: 27.0583\n",
            "Epoch 51/100\n",
            "240/240 [==============================] - 0s 881us/step - loss: 26.9092\n",
            "Epoch 52/100\n",
            "240/240 [==============================] - 0s 873us/step - loss: 27.1754\n",
            "Epoch 53/100\n",
            "240/240 [==============================] - 0s 834us/step - loss: 28.2146\n",
            "Epoch 54/100\n",
            "240/240 [==============================] - 0s 894us/step - loss: 27.1513\n",
            "Epoch 55/100\n",
            "240/240 [==============================] - 0s 829us/step - loss: 28.8079\n",
            "Epoch 56/100\n",
            "240/240 [==============================] - 0s 862us/step - loss: 27.2295\n",
            "Epoch 57/100\n",
            "240/240 [==============================] - 0s 869us/step - loss: 27.8721\n",
            "Epoch 58/100\n",
            "240/240 [==============================] - 0s 881us/step - loss: 27.5917\n",
            "Epoch 59/100\n",
            "240/240 [==============================] - 0s 858us/step - loss: 28.7484\n",
            "Epoch 60/100\n",
            "240/240 [==============================] - 0s 833us/step - loss: 27.2457\n",
            "Epoch 61/100\n",
            "240/240 [==============================] - 0s 867us/step - loss: 28.1668\n",
            "Epoch 62/100\n",
            "240/240 [==============================] - 0s 891us/step - loss: 27.0287\n",
            "Epoch 63/100\n",
            "240/240 [==============================] - 0s 874us/step - loss: 27.5316\n",
            "Epoch 64/100\n",
            "240/240 [==============================] - 0s 832us/step - loss: 27.6013\n",
            "Epoch 65/100\n",
            "240/240 [==============================] - 0s 880us/step - loss: 27.0312\n",
            "Epoch 66/100\n",
            "240/240 [==============================] - 0s 891us/step - loss: 28.1739\n",
            "Epoch 67/100\n",
            "240/240 [==============================] - 0s 865us/step - loss: 27.1592\n",
            "Epoch 68/100\n",
            "240/240 [==============================] - 0s 844us/step - loss: 27.4774\n",
            "Epoch 69/100\n",
            "240/240 [==============================] - 0s 852us/step - loss: 27.3034\n",
            "Epoch 70/100\n",
            "240/240 [==============================] - 0s 831us/step - loss: 27.4440\n",
            "Epoch 71/100\n",
            "240/240 [==============================] - 0s 916us/step - loss: 28.9948\n",
            "Epoch 72/100\n",
            "240/240 [==============================] - 0s 866us/step - loss: 28.0190\n",
            "Epoch 73/100\n",
            "240/240 [==============================] - 0s 831us/step - loss: 27.7289\n",
            "Epoch 74/100\n",
            "240/240 [==============================] - 0s 853us/step - loss: 27.3428\n",
            "Epoch 75/100\n",
            "240/240 [==============================] - 0s 840us/step - loss: 27.4753\n",
            "Epoch 76/100\n",
            "240/240 [==============================] - 0s 868us/step - loss: 27.3554\n",
            "Epoch 77/100\n",
            "240/240 [==============================] - 0s 843us/step - loss: 26.7800\n",
            "Epoch 78/100\n",
            "240/240 [==============================] - 0s 884us/step - loss: 27.7809\n",
            "Epoch 79/100\n",
            "240/240 [==============================] - 0s 878us/step - loss: 27.3869\n",
            "Epoch 80/100\n",
            "240/240 [==============================] - 0s 825us/step - loss: 27.4775\n",
            "Epoch 81/100\n",
            "240/240 [==============================] - 0s 882us/step - loss: 28.0126\n",
            "Epoch 82/100\n",
            "240/240 [==============================] - 0s 838us/step - loss: 27.5598\n",
            "Epoch 83/100\n",
            "240/240 [==============================] - 0s 855us/step - loss: 27.6999\n",
            "Epoch 84/100\n",
            "240/240 [==============================] - 0s 826us/step - loss: 27.3549\n",
            "Epoch 85/100\n",
            "240/240 [==============================] - 0s 848us/step - loss: 27.7811\n",
            "Epoch 86/100\n",
            "240/240 [==============================] - 0s 874us/step - loss: 28.1740\n",
            "Epoch 87/100\n",
            "240/240 [==============================] - 0s 810us/step - loss: 28.0453\n",
            "Epoch 88/100\n",
            "240/240 [==============================] - 0s 889us/step - loss: 27.4057\n",
            "Epoch 89/100\n",
            "240/240 [==============================] - 0s 846us/step - loss: 27.9561\n",
            "Epoch 90/100\n",
            "240/240 [==============================] - 0s 883us/step - loss: 28.0471\n",
            "Epoch 91/100\n",
            "240/240 [==============================] - 0s 880us/step - loss: 27.7532\n",
            "Epoch 92/100\n",
            "240/240 [==============================] - 0s 820us/step - loss: 27.4730\n",
            "Epoch 93/100\n",
            "240/240 [==============================] - 0s 975us/step - loss: 27.0311\n",
            "Epoch 94/100\n",
            "240/240 [==============================] - 0s 863us/step - loss: 28.1177\n",
            "Epoch 95/100\n",
            "240/240 [==============================] - 0s 898us/step - loss: 27.6241\n",
            "Epoch 96/100\n",
            "240/240 [==============================] - 0s 834us/step - loss: 27.7902\n",
            "Epoch 97/100\n",
            "240/240 [==============================] - 0s 906us/step - loss: 27.3312\n",
            "Epoch 98/100\n",
            "240/240 [==============================] - 0s 838us/step - loss: 27.3538\n",
            "Epoch 99/100\n",
            "240/240 [==============================] - 0s 878us/step - loss: 26.8945\n",
            "Epoch 100/100\n",
            "240/240 [==============================] - 0s 898us/step - loss: 27.3686\n"
          ],
          "name": "stdout"
        },
        {
          "output_type": "execute_result",
          "data": {
            "text/plain": [
              "<tensorflow.python.keras.callbacks.History at 0x7f92adbe8f28>"
            ]
          },
          "metadata": {
            "tags": []
          },
          "execution_count": 24
        }
      ]
    },
    {
      "cell_type": "markdown",
      "metadata": {
        "id": "-eBJ53MjmNV0",
        "colab_type": "text"
      },
      "source": [
        "it began to converge after 53 epochs or so"
      ]
    },
    {
      "cell_type": "markdown",
      "metadata": {
        "id": "0H0zKKNEBLD5",
        "colab_type": "text"
      },
      "source": [
        "### Predicting the results of the Test set\n",
        "\n",
        "after the minimization process it is possible to see that the results are quite similar"
      ]
    },
    {
      "cell_type": "code",
      "metadata": {
        "id": "IA0yApEmBG1X",
        "colab_type": "code",
        "colab": {
          "base_uri": "https://localhost:8080/",
          "height": 134
        },
        "outputId": "894d8b32-91f2-4c03-f005-a3f53f640555"
      },
      "source": [
        "y_pred = ann.predict(X_test)\n",
        "np.set_printoptions(precision=2)\n",
        "print(np.concatenate((y_pred.reshape(len(y_pred),1), y_test.reshape(len(y_test),1)),1))"
      ],
      "execution_count": 25,
      "outputs": [
        {
          "output_type": "stream",
          "text": [
            "[[431.51 431.23]\n",
            " [462.78 460.01]\n",
            " [466.35 461.14]\n",
            " ...\n",
            " [473.53 473.26]\n",
            " [440.34 438.  ]\n",
            " [459.58 463.28]]\n"
          ],
          "name": "stdout"
        }
      ]
    }
  ]
}